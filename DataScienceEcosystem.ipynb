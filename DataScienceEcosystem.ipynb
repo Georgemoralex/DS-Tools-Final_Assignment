{
 "cells": [
  {
   "cell_type": "markdown",
   "id": "21672ef7-5aa0-4dc8-9d22-31a5fe2467d0",
   "metadata": {},
   "source": [
    "# Data Science Tools and Ecosystem"
   ]
  },
  {
   "cell_type": "markdown",
   "id": "cbc16fd8-4eb9-43e0-8a7c-ea626163e93a",
   "metadata": {},
   "source": [
    "In this notebook, Data Science Tools and Ecosystem are summarized."
   ]
  },
  {
   "cell_type": "markdown",
   "id": "bac74c6b-1b61-4aee-9a03-c3a8c5aef83d",
   "metadata": {},
   "source": [
    "**Objectives:**\n",
    "\n",
    "- List popular languages for Data Science\n",
    "- List popular Data Science libraries\n",
    "- Share Jupyter Notebooks in various formats\n",
    "- Use Markdown to format text and create tables in Jupyter Notebooks\n",
    "- Perform basic arithmetic operations in Python using Jupyter Notebooks"
   ]
  },
  {
   "cell_type": "markdown",
   "id": "f2c9da17-e970-4873-91a8-7c4fdd3c42e4",
   "metadata": {},
   "source": [
    "### Data Science Languages\n",
    "\n",
    "Some of the popular languages that Data Scientists use are:\r\n",
    "\r\n",
    "1. **Python**: Widely used for its simplicity and readability, extensive libraries (like NumPy, Pandas, and Scikit-learn), and strong community support.\r\n",
    "2. **R**: Known for its strong statistical capabilities and extensive packages for data analysis and visualization (like ggplot2 and dplyr).\r\n",
    "3. **SQL**: Essential for querying and managing data stored in relational databases.\r\n",
    "4. **Java**: Used for building large-scale data processing systems and applications that require high performance.\r\n",
    "5. **Scala**: Often used in conjunction with Apache Spark for big data processing.\r\n",
    "6. **Julia**: Gaining popularity for its high performance in numerical and scientific computing.\r\n",
    "7. **MATLAB**: Used for numerical computing and algorithm development, especially in academia and engineering.\r\n",
    "\r\n",
    "These languages are chosen based on the specific needs of the data science project, such as data manipulation, statistical analysis, machine learning, or big data processing.ta processing."
   ]
  },
  {
   "cell_type": "markdown",
   "id": "2b0586bd-04cf-463d-a938-6f270ecd6da8",
   "metadata": {},
   "source": [
    "### Data Science Libraries\n",
    "\n",
    "Some of the commonly used libraries used by Data Scientists include:\n",
    "\n",
    "1. **NumPy**: Fundamental package for numerical computing in Python, providing support for arrays, matrices, and high-level mathematical functions.\n",
    "2. **Pandas**: Essential for data manipulation and analysis, offering data structures like DataFrame for handling structured data efficiently.\n",
    "3. **Matplotlib**: Comprehensive library for creating static, animated, and interactive visualizations in Python.\n",
    "4. **Seaborn**: Built on top of Matplotlib, Seaborn provides a high-level interface for drawing attractive and informative statistical graphics.\n",
    "5. **Scikit-learn**: A robust machine learning library that offers simple and efficient tools for data mining and data analysis, supporting various supervised and unsupervised learning algorithms.\n",
    "6. **TensorFlow**: An open-source library developed by Google, widely used for machine learning and deep learning applications.\n",
    "7. **Keras**: A high-level neural networks API, written in Python and capable of running on top of TensorFlow, CNTK, or Theano.\n",
    "8. **PyTorch**: An open-source machine learning library developed by Facebook's AI Research lab, known for its flexibility and ease of use, especially in deep learning.\n",
    "9. **SciPy**: Builds on NumPy and provides additional functionality for scientific and technical computing, including modules for optimization, integration, interpolation, eigenvalue problems, and more.\n",
    "10. **Statsmodels**: A library for estimating and testing statistical models, providing extensive support for many statistical tests and data exploration.\n",
    "11. **NLTK (Natural Language Toolkit)**: A leading platform for building Python programs to work with human language data, offering easy-to-use interfaces to over 50 corpora and lexical resources.\n",
    "12. **Gensim**: A library for unsupervised topic modeling and natural language processing, using modern statistical machine learning.\n",
    "13. **Plotly**: A graphing library that makes interactive, publication-quality graphs online, supporting various chart types and visualizations.\n",
    "14. **XGBoost**: An optimized distributed gradient boosting library designed to be highly efficient, flexible, and portable, widely used in machine learning competitions.\n",
    "15. **LightGBM**: A gradient boosting framework that uses tree-based learning algorithms, designed for fast training speed and high efficiency.\n",
    "\n",
    "These libraries are frequently used in data science projects for tasks ranging from data manipulation and visualization to machine learning and deep learning."
   ]
  },
  {
   "cell_type": "markdown",
   "id": "2dbe09f3-ee18-4b58-a1eb-f60e269adf77",
   "metadata": {},
   "source": [
    "| Data Science Tools          |\n",
    "|-----------------------------|\n",
    "| Jupyter Notebook            |\n",
    "| RStudio                     |\n",
    "| Apache Zeppelin             |\n",
    "| Spyder                      |\n",
    "| KNIME                       |\n",
    "| Orange                      |\n",
    "| RapidMiner                  |\n",
    "| Weka                        |\n",
    "| DataRobot                   |"
   ]
  },
  {
   "cell_type": "markdown",
   "id": "26ca127f-e536-4832-adf2-1e8775583883",
   "metadata": {},
   "source": [
    "### Below are a few examples of evaluating arithmetic expressions in Python.\r\n",
    "\r\n",
    "1. **Addition**: `3 + 2` equals 5\r\n",
    "2. **Subtraction**: `5 - 2` equals 3\r\n",
    "3. **Multiplication**: `4 * 2` equals 8\r\n",
    "4. **Division**: `8 / 2` equals 4\r\n",
    "5. **Exponentiation**: `2 ** 3` equals 8\r\n",
    "6. **Modulus**: `10 % 3` equals 1\r\n"
   ]
  },
  {
   "cell_type": "code",
   "execution_count": 20,
   "id": "297b696d-9817-4ff7-ad3f-a3caa4237b83",
   "metadata": {},
   "outputs": [
    {
     "data": {
      "text/plain": [
       "17"
      ]
     },
     "execution_count": 20,
     "metadata": {},
     "output_type": "execute_result"
    }
   ],
   "source": [
    "# This is a simple arithmetic expression to multiply then add integers\n",
    "result = (3 * 4) + 5\n",
    "result"
   ]
  },
  {
   "cell_type": "code",
   "execution_count": 22,
   "id": "9af3b1e7-6b5e-4d83-b347-050614a1bdaa",
   "metadata": {},
   "outputs": [
    {
     "data": {
      "text/plain": [
       "3.3333333333333335"
      ]
     },
     "execution_count": 22,
     "metadata": {},
     "output_type": "execute_result"
    }
   ],
   "source": [
    "# This will convert 200 minutes to hours by dividing by 60\n",
    "minutes = 200\n",
    "hours = minutes / 60\n",
    "hours\n"
   ]
  },
  {
   "cell_type": "markdown",
   "id": "69a2924a-fde3-4393-bb52-d852041ce2d4",
   "metadata": {},
   "source": [
    "## Author\n",
    "\n",
    "Jorge Alberto Morales Alvarez"
   ]
  },
  {
   "cell_type": "code",
   "execution_count": null,
   "id": "966d73bc-860e-46e2-b63f-318bde57d9ad",
   "metadata": {},
   "outputs": [],
   "source": []
  }
 ],
 "metadata": {
  "kernelspec": {
   "display_name": "Python 3 (ipykernel)",
   "language": "python",
   "name": "python3"
  },
  "language_info": {
   "codemirror_mode": {
    "name": "ipython",
    "version": 3
   },
   "file_extension": ".py",
   "mimetype": "text/x-python",
   "name": "python",
   "nbconvert_exporter": "python",
   "pygments_lexer": "ipython3",
   "version": "3.12.4"
  }
 },
 "nbformat": 4,
 "nbformat_minor": 5
}
